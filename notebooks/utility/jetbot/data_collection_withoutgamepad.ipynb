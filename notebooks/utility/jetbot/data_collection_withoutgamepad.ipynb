{
 "cells": [
  {
   "cell_type": "markdown",
   "metadata": {},
   "source": [
    "# JetBot - Data collection without gamecontroller\n",
    "\n",
    "In this notebook we'll collect training data for CNN VAE. The training data save to dataset directory.\n",
    "\n",
    "## Import module\n",
    "\n"
   ]
  },
  {
   "cell_type": "code",
   "execution_count": 1,
   "metadata": {},
   "outputs": [],
   "source": [
    "import os\n",
    "import traitlets\n",
    "import ipywidgets.widgets as widgets\n",
    "from IPython.display import display\n",
    "from jetbot import Robot, Camera, bgr8_to_jpeg\n"
   ]
  },
  {
   "cell_type": "markdown",
   "metadata": {},
   "source": [
    "## Show log_button\n",
    "\n",
    "If you enable log_button then start recording images.\n"
   ]
  },
  {
   "cell_type": "code",
   "execution_count": 2,
   "metadata": {},
   "outputs": [
    {
     "data": {
      "text/plain": [
       "Controller()"
      ]
     },
     "metadata": {},
     "output_type": "display_data"
    }
   ],
   "source": [
    "log_button = widgets.ToggleButton(value=False, description='enable logging')\n",
    "display(log_button)"
   ]
  },
  {
   "cell_type": "markdown",
   "metadata": {},
   "source": [
    "## Initialize Camera\n",
    "\n",
    "Next is initializing camera module. Image size is 320 x 240. Frame rate is about 27Hz. We'll save image in camera observer method. camera observer method can get image per frame rate. Thus, frame rate is decide to image save interval."
   ]
  },
  {
   "cell_type": "code",
   "execution_count": 6,
   "metadata": {},
   "outputs": [],
   "source": [
    "camera = Camera.instance(width=320, height=240)\n",
    "image = widgets.Image(format='jpeg', width=320, height=240)\n",
    "camera_link = traitlets.dlink((camera,'value'), (image,'value'), transform=bgr8_to_jpeg)\n"
   ]
  },
  {
   "cell_type": "markdown",
   "metadata": {},
   "source": [
    "## UI Widget\n"
   ]
  },
  {
   "cell_type": "code",
   "execution_count": 7,
   "metadata": {
    "collapsed": false
   },
   "outputs": [
    {
     "name": "stdout",
     "output_type": "stream",
     "text": [
      "Directories not created becasue they already exist\n"
     ]
    },
    {
     "data": {
      "text/plain": [
       "HBox(children=(VBox(children=(HBox(children=(Label(value='Number image:', layout=Layout(height='64px', width='…"
      ]
     },
     "metadata": {},
     "output_type": "display_data"
    }
   ],
   "source": [
    "DATASET_DIR = 'dataset'\n",
    "try:\n",
    "    os.makedirs(DATASET_DIR)\n",
    "except FileExistsError:\n",
    "    print('Directories not created becasue they already exist')\n",
    "\n",
    "dataset=DATASET_DIR\n",
    "layout = widgets.Layout(width='100px', height='64px')\n",
    "count_box   = widgets.IntText(layout=layout, value=len(os.listdir(dataset)))\n",
    "count_label = widgets.Label(layout=layout, value='Number image:')\n",
    "count_panel = widgets.HBox([count_label,count_box])\n",
    "\n",
    "panel = widgets.VBox([count_panel])\n",
    "display(widgets.HBox([panel,image]))\n"
   ]
  },
  {
   "cell_type": "markdown",
   "metadata": {},
   "source": [
    "## Set callback for collect the training data.\n",
    "\n",
    "```save_record``` is callback for training data. The method set to camera observer. This callback saving the image to DATASET_DIR. When click ```enable logging``` button, this method recording training data. You can check number of training data with ```Number image text box```."
   ]
  },
  {
   "cell_type": "code",
   "execution_count": 8,
   "metadata": {},
   "outputs": [],
   "source": [
    "\n",
    "import os\n",
    "from uuid import uuid1\n",
    "\n",
    "def save_record(change):                \n",
    "    if log_button.value:\n",
    "        \n",
    "        image_name = '{}.jpg'.format(uuid1())\n",
    "        image_path = os.path.join(DATASET_DIR, image_name)\n",
    "        save_image=bgr8_to_jpeg(change['new'])\n",
    "        with open(image_path, 'wb') as f:\n",
    "            f.write(save_image)\n",
    "        count_box.value = len(os.listdir(dataset)) \n",
    "\n",
    "\n",
    "save_record({'new': camera.value})\n",
    "camera.observe(save_record, names='value')"
   ]
  },
  {
   "cell_type": "markdown",
   "metadata": {},
   "source": [
    "## Cleanup\n",
    "\n",
    "After collecting enough data. cleanup camera observer and stop all motor."
   ]
  },
  {
   "cell_type": "code",
   "execution_count": 9,
   "metadata": {},
   "outputs": [],
   "source": [
    "camera.unobserve(save_record, names='value')\n",
    "camera_link.unlink()\n"
   ]
  },
  {
   "cell_type": "markdown",
   "metadata": {},
   "source": [
    "## Cleate dataset.zip file "
   ]
  },
  {
   "cell_type": "code",
   "execution_count": 10,
   "metadata": {},
   "outputs": [],
   "source": [
    "import datetime\n",
    "def timestr():\n",
    "    return str(datetime.datetime.now().strftime('%Y-%m-%d_%H-%M-%S'))\n",
    "\n",
    "!zip -r -q jetbot_{DATASET_DIR}_{timestr()}.zip {DATASET_DIR}"
   ]
  }
 ],
 "metadata": {
  "kernelspec": {
   "display_name": "Python 3",
   "language": "python",
   "name": "python3"
  },
  "language_info": {
   "codemirror_mode": {
    "name": "ipython",
    "version": 3
   },
   "file_extension": ".py",
   "mimetype": "text/x-python",
   "name": "python",
   "nbconvert_exporter": "python",
   "pygments_lexer": "ipython3",
   "version": "3.6.9"
  }
 },
 "nbformat": 4,
 "nbformat_minor": 4
}
